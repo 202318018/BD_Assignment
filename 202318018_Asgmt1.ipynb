{
 "cells": [
  {
   "cell_type": "code",
   "execution_count": 33,
   "metadata": {},
   "outputs": [],
   "source": [
    "#Karan Sharma\n",
    "#2023 180 18\n",
    "#MSc DS (Sem2)\n",
    "import re\n",
    "import csv\n",
    "import requests\n",
    "import numpy as np\n",
    "import pandas as pd\n",
    "from bs4 import BeautifulSoup"
   ]
  },
  {
   "cell_type": "code",
   "execution_count": null,
   "metadata": {},
   "outputs": [],
   "source": [
    "#Task A\n",
    "def block_multi(A, B, block_size):\n",
    "    if len(A[0]) == len(B):\n",
    "        result = np.zeros((A.shape[0],B.shape[1]))\n",
    "        for i in range(0,A.shape[0],block_size):\n",
    "            for j in range(0,B.shape[1],block_size):\n",
    "                for k in range(0, A.shape[1],block_size):\n",
    "                    result[i:i+block_size,j:j+block_size]+=np.dot(A[i:i+block_size,k:k+block_size],B[k:k+block_size,j:j+block_size])\n",
    "        return result\n",
    "    else:\n",
    "       print(\"Matrix cannot be multiplied because of difference in sizes\")\n",
    "block_size = 4\n",
    "A = np.array([[1, 2, 3, 4, 5, 6], [7, 8, 9, 10, 11, 12], [13, 14, 15, 16, 17, 18], [19, 20, 21, 22, 23, 24], [25, 26, 27, 28, 29, 30], [31, 32, 33, 34, 35, 36]])\n",
    "B = np.array([[36, 35, 34, 33, 32, 31], [30, 29, 28, 27, 26, 25], [24, 23, 22, 21, 20, 19], [ 18, 17, 16, 15, 14, 13], [12, 11, 10, 9, 8, 7], [6, 5, 4, 3, 2, 1]])\n",
    "result = block_multi(A, B, block_size)\n",
    "print(\"A:\")\n",
    "for row in A:\n",
    "    print(row)\n",
    "print(\"\\nB:\")\n",
    "for row in B:\n",
    "    print(row)\n",
    "print(\"\\nResult:\")\n",
    "for row in result:\n",
    "    print(row)"
   ]
  },
  {
   "cell_type": "code",
   "execution_count": null,
   "metadata": {},
   "outputs": [],
   "source": [
    "#Task B\n",
    "url_main = \"https://open-weather13.p.rapidapi.com/city/\"\n",
    "\n",
    "cities = [\"ahmedabad\", \"mumbai\", \"bangalore\"]\n",
    "\n",
    "headers = {\n",
    "\t\"X-RapidAPI-Key\": \"fdb1ff3c85mshdcb6213004beb5cp1e19a5jsndc8fc8fa74a3\",\n",
    "\t\"X-RapidAPI-Host\": \"open-weather13.p.rapidapi.com\"\n",
    "}\n",
    "\n",
    "for city in cities:\n",
    "    url = url_main + city\n",
    "    response = requests.get(url, headers=headers)\n",
    "    print(\"City:\", city.capitalize())\n",
    "    print(\"Weather:\", response.json()[\"weather\"][0][\"description\"].capitalize())\n",
    "    print(\"Temp:\", response.json()[\"main\"][\"temp\"], \"\\n\")"
   ]
  },
  {
   "cell_type": "code",
   "execution_count": 34,
   "metadata": {},
   "outputs": [
    {
     "name": "stdout",
     "output_type": "stream",
     "text": [
      "Success Ratio: 13.3%\n"
     ]
    }
   ],
   "source": [
    "#Task C\n",
    "url_main = \"https://www.amazon.in/s?k=Phone&page = \"\n",
    "\n",
    "headers = {\n",
    "    \"User-Agent\": \"Mozilla/5.0 (Windows NT 10.0; Win64; x64) AppleWebKit/537.36 (KHTML, like Gecko) Chrome/121.0.0.0 Safari/537.36 Edg/121.0.0.0\",\n",
    "    \"Accept-Language\": \"en-US, en;q=0.5\",\n",
    "}\n",
    "\n",
    "count = 0\n",
    "\n",
    "pages = 30\n",
    "\n",
    "rows = [\"page\", \"company\", \"name\", \"specs\"]\n",
    "\n",
    "with open(\"amazon.csv\", \"w\", encoding = \"utf-8\") as csvfile:\n",
    "    csvwriter = csv.writer(csvfile)\n",
    "    csvwriter.writerow(rows)\n",
    "\n",
    "for num in range(1, pages + 1):\n",
    "    url = url_main + str(num)\n",
    "    response = requests.get(url, headers = headers)\n",
    "    data = []\n",
    "    if (response.status_code == 200):\n",
    "        soup = BeautifulSoup(response.content, \"html.parser\")\n",
    "        for product in soup.find_all(class_ = \"a-size-medium a-color-base a-text-normal\"):\n",
    "            product = product.text.strip()\n",
    "            company = product.split(sep= \" \", maxsplit=1)[0]\n",
    "            name = product.split(sep= \"|\", maxsplit=1)[0]\n",
    "            specs = product.split(sep= \"(\", maxsplit=1)[-1]\n",
    "            data.append([num, company, name, specs])\n",
    "        with open(\"amazon.csv\", \"a\", encoding = \"utf-8\") as csvfile:\n",
    "            csvwriter = csv.writer(csvfile)\n",
    "            csvwriter.writerows(data)\n",
    "            count += 1\n",
    "\n",
    "print(\"Success Ratio: %.1f\" %((count/pages) * 100) + \"%\")"
   ]
  }
 ],
 "metadata": {
  "kernelspec": {
   "display_name": "Python 3",
   "language": "python",
   "name": "python3"
  },
  "language_info": {
   "codemirror_mode": {
    "name": "ipython",
    "version": 3
   },
   "file_extension": ".py",
   "mimetype": "text/x-python",
   "name": "python",
   "nbconvert_exporter": "python",
   "pygments_lexer": "ipython3",
   "version": "3.12.1"
  }
 },
 "nbformat": 4,
 "nbformat_minor": 2
}
